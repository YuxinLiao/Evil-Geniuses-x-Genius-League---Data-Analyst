{
 "cells": [
  {
   "cell_type": "markdown",
   "id": "60ecac54",
   "metadata": {},
   "source": [
    "# Yuxin Liao - Evil Geniuses x Genius League - Data Analyst"
   ]
  },
  {
   "cell_type": "markdown",
   "id": "e0419261",
   "metadata": {},
   "source": [
    "## Preclean data"
   ]
  },
  {
   "cell_type": "code",
   "execution_count": 1,
   "id": "3c074345",
   "metadata": {},
   "outputs": [
    {
     "name": "stdout",
     "output_type": "stream",
     "text": [
      "              Published Date   Account Account Type          Campaign Name  \\\n",
      "0    2023-03-31 19:55:43.192      CSGO      TWITTER                   N/A    \n",
      "1    2023-03-31 19:49:35.243      CSGO      TWITTER                   N/A    \n",
      "2    2023-03-31 19:49:33.535      CSGO      TWITTER                   N/A    \n",
      "3    2023-03-31 19:49:31.583      CSGO      TWITTER                   N/A    \n",
      "4    2023-03-31 19:43:42.590      CSGO      TWITTER  Community Engagement    \n",
      "...                      ...       ...          ...                    ...   \n",
      "3474 2023-01-03 10:35:12.652      CSGO      TWITTER                   N/A    \n",
      "3475 2023-01-03 10:34:55.487      CSGO      TWITTER                   N/A    \n",
      "3476 2023-01-03 10:34:38.631      CSGO      TWITTER                   N/A    \n",
      "3477 2023-01-03 10:34:03.438      CSGO      TWITTER                   N/A    \n",
      "3478 2023-01-01 14:59:04.000  General        FBPAGE                   N/A    \n",
      "\n",
      "      Total Impressions  Total Engagements Media Type  \n",
      "0                   0.0                0.0       Text  \n",
      "1                   0.0                0.0       Text  \n",
      "2                   0.0                0.0       Text  \n",
      "3                   0.0                0.0       Text  \n",
      "4                9517.0             1215.0      Video  \n",
      "...                 ...                ...        ...  \n",
      "3474                0.0                0.0       Link  \n",
      "3475                0.0                0.0       Link  \n",
      "3476                0.0                0.0       Link  \n",
      "3477             2116.0               42.0       Text  \n",
      "3478                0.0                0.0      Photo  \n",
      "\n",
      "[3479 rows x 7 columns]\n"
     ]
    }
   ],
   "source": [
    "import pandas as pd\n",
    "df = pd.read_excel('social_data.xlsx')\n",
    "print(df)"
   ]
  },
  {
   "cell_type": "markdown",
   "id": "b7bb8a81",
   "metadata": {},
   "source": [
    "#### Rename columns and remove NAs of Total Engagements"
   ]
  },
  {
   "cell_type": "code",
   "execution_count": 2,
   "id": "c7b30ebc",
   "metadata": {},
   "outputs": [],
   "source": [
    "df = df.rename(columns={\"Published Date\": \"Published_Date\", \"Account Type\": \"Account_Type\", \"Campaign Name\": \"Campaign_Name\", \"Total Impressions\": \"Total_Impressions\", \"Total Engagements\": \"Total_Engagements\", \"Media Type\": \"Media_Type\"})"
   ]
  },
  {
   "cell_type": "code",
   "execution_count": 3,
   "id": "780c6bde",
   "metadata": {},
   "outputs": [
    {
     "data": {
      "text/html": [
       "<div>\n",
       "<style scoped>\n",
       "    .dataframe tbody tr th:only-of-type {\n",
       "        vertical-align: middle;\n",
       "    }\n",
       "\n",
       "    .dataframe tbody tr th {\n",
       "        vertical-align: top;\n",
       "    }\n",
       "\n",
       "    .dataframe thead th {\n",
       "        text-align: right;\n",
       "    }\n",
       "</style>\n",
       "<table border=\"1\" class=\"dataframe\">\n",
       "  <thead>\n",
       "    <tr style=\"text-align: right;\">\n",
       "      <th></th>\n",
       "      <th>Published_Date</th>\n",
       "      <th>Account</th>\n",
       "      <th>Account_Type</th>\n",
       "      <th>Campaign_Name</th>\n",
       "      <th>Total_Impressions</th>\n",
       "      <th>Total_Engagements</th>\n",
       "      <th>Media_Type</th>\n",
       "    </tr>\n",
       "  </thead>\n",
       "  <tbody>\n",
       "    <tr>\n",
       "      <th>0</th>\n",
       "      <td>2023-03-31 19:55:43.192</td>\n",
       "      <td>CSGO</td>\n",
       "      <td>TWITTER</td>\n",
       "      <td>N/A</td>\n",
       "      <td>0.0</td>\n",
       "      <td>0.0</td>\n",
       "      <td>Text</td>\n",
       "    </tr>\n",
       "    <tr>\n",
       "      <th>1</th>\n",
       "      <td>2023-03-31 19:49:35.243</td>\n",
       "      <td>CSGO</td>\n",
       "      <td>TWITTER</td>\n",
       "      <td>N/A</td>\n",
       "      <td>0.0</td>\n",
       "      <td>0.0</td>\n",
       "      <td>Text</td>\n",
       "    </tr>\n",
       "    <tr>\n",
       "      <th>2</th>\n",
       "      <td>2023-03-31 19:49:33.535</td>\n",
       "      <td>CSGO</td>\n",
       "      <td>TWITTER</td>\n",
       "      <td>N/A</td>\n",
       "      <td>0.0</td>\n",
       "      <td>0.0</td>\n",
       "      <td>Text</td>\n",
       "    </tr>\n",
       "    <tr>\n",
       "      <th>3</th>\n",
       "      <td>2023-03-31 19:49:31.583</td>\n",
       "      <td>CSGO</td>\n",
       "      <td>TWITTER</td>\n",
       "      <td>N/A</td>\n",
       "      <td>0.0</td>\n",
       "      <td>0.0</td>\n",
       "      <td>Text</td>\n",
       "    </tr>\n",
       "    <tr>\n",
       "      <th>4</th>\n",
       "      <td>2023-03-31 19:43:42.590</td>\n",
       "      <td>CSGO</td>\n",
       "      <td>TWITTER</td>\n",
       "      <td>Community Engagement</td>\n",
       "      <td>9517.0</td>\n",
       "      <td>1215.0</td>\n",
       "      <td>Video</td>\n",
       "    </tr>\n",
       "    <tr>\n",
       "      <th>...</th>\n",
       "      <td>...</td>\n",
       "      <td>...</td>\n",
       "      <td>...</td>\n",
       "      <td>...</td>\n",
       "      <td>...</td>\n",
       "      <td>...</td>\n",
       "      <td>...</td>\n",
       "    </tr>\n",
       "    <tr>\n",
       "      <th>3474</th>\n",
       "      <td>2023-01-03 10:35:12.652</td>\n",
       "      <td>CSGO</td>\n",
       "      <td>TWITTER</td>\n",
       "      <td>N/A</td>\n",
       "      <td>0.0</td>\n",
       "      <td>0.0</td>\n",
       "      <td>Link</td>\n",
       "    </tr>\n",
       "    <tr>\n",
       "      <th>3475</th>\n",
       "      <td>2023-01-03 10:34:55.487</td>\n",
       "      <td>CSGO</td>\n",
       "      <td>TWITTER</td>\n",
       "      <td>N/A</td>\n",
       "      <td>0.0</td>\n",
       "      <td>0.0</td>\n",
       "      <td>Link</td>\n",
       "    </tr>\n",
       "    <tr>\n",
       "      <th>3476</th>\n",
       "      <td>2023-01-03 10:34:38.631</td>\n",
       "      <td>CSGO</td>\n",
       "      <td>TWITTER</td>\n",
       "      <td>N/A</td>\n",
       "      <td>0.0</td>\n",
       "      <td>0.0</td>\n",
       "      <td>Link</td>\n",
       "    </tr>\n",
       "    <tr>\n",
       "      <th>3477</th>\n",
       "      <td>2023-01-03 10:34:03.438</td>\n",
       "      <td>CSGO</td>\n",
       "      <td>TWITTER</td>\n",
       "      <td>N/A</td>\n",
       "      <td>2116.0</td>\n",
       "      <td>42.0</td>\n",
       "      <td>Text</td>\n",
       "    </tr>\n",
       "    <tr>\n",
       "      <th>3478</th>\n",
       "      <td>2023-01-01 14:59:04.000</td>\n",
       "      <td>General</td>\n",
       "      <td>FBPAGE</td>\n",
       "      <td>N/A</td>\n",
       "      <td>0.0</td>\n",
       "      <td>0.0</td>\n",
       "      <td>Photo</td>\n",
       "    </tr>\n",
       "  </tbody>\n",
       "</table>\n",
       "<p>3479 rows × 7 columns</p>\n",
       "</div>"
      ],
      "text/plain": [
       "              Published_Date   Account Account_Type          Campaign_Name  \\\n",
       "0    2023-03-31 19:55:43.192      CSGO      TWITTER                   N/A    \n",
       "1    2023-03-31 19:49:35.243      CSGO      TWITTER                   N/A    \n",
       "2    2023-03-31 19:49:33.535      CSGO      TWITTER                   N/A    \n",
       "3    2023-03-31 19:49:31.583      CSGO      TWITTER                   N/A    \n",
       "4    2023-03-31 19:43:42.590      CSGO      TWITTER  Community Engagement    \n",
       "...                      ...       ...          ...                    ...   \n",
       "3474 2023-01-03 10:35:12.652      CSGO      TWITTER                   N/A    \n",
       "3475 2023-01-03 10:34:55.487      CSGO      TWITTER                   N/A    \n",
       "3476 2023-01-03 10:34:38.631      CSGO      TWITTER                   N/A    \n",
       "3477 2023-01-03 10:34:03.438      CSGO      TWITTER                   N/A    \n",
       "3478 2023-01-01 14:59:04.000  General        FBPAGE                   N/A    \n",
       "\n",
       "      Total_Impressions  Total_Engagements Media_Type  \n",
       "0                   0.0                0.0       Text  \n",
       "1                   0.0                0.0       Text  \n",
       "2                   0.0                0.0       Text  \n",
       "3                   0.0                0.0       Text  \n",
       "4                9517.0             1215.0      Video  \n",
       "...                 ...                ...        ...  \n",
       "3474                0.0                0.0       Link  \n",
       "3475                0.0                0.0       Link  \n",
       "3476                0.0                0.0       Link  \n",
       "3477             2116.0               42.0       Text  \n",
       "3478                0.0                0.0      Photo  \n",
       "\n",
       "[3479 rows x 7 columns]"
      ]
     },
     "execution_count": 3,
     "metadata": {},
     "output_type": "execute_result"
    }
   ],
   "source": [
    "df.dropna(subset=['Total_Impressions'])"
   ]
  },
  {
   "cell_type": "markdown",
   "id": "54514aaa",
   "metadata": {},
   "source": [
    "## 1. What is the typical engagement rate we can expect? What’s the likelihood that we can achieve a 15% engagement rate?"
   ]
  },
  {
   "cell_type": "code",
   "execution_count": 4,
   "id": "28b7e710",
   "metadata": {},
   "outputs": [],
   "source": [
    "df[\"Engagement_Rate\"] = df[\"Total_Engagements\"] / df[\"Total_Impressions\"]"
   ]
  },
  {
   "cell_type": "markdown",
   "id": "789e47b2",
   "metadata": {},
   "source": [
    "#### The typical engagement rate we can expect"
   ]
  },
  {
   "cell_type": "code",
   "execution_count": 5,
   "id": "4a4fdcd5",
   "metadata": {},
   "outputs": [
    {
     "name": "stdout",
     "output_type": "stream",
     "text": [
      "The typical engagement rate we can expect: 40.49%.\n"
     ]
    }
   ],
   "source": [
    "rate = df[\"Engagement_Rate\"].mean()*100\n",
    "print(f'The typical engagement rate we can expect: {rate:0.2f}%.')"
   ]
  },
  {
   "cell_type": "markdown",
   "id": "1b34fbdd",
   "metadata": {},
   "source": [
    "#### The likelihood that we can achieve a 15% engagement rate"
   ]
  },
  {
   "cell_type": "code",
   "execution_count": 6,
   "id": "2b758019",
   "metadata": {},
   "outputs": [
    {
     "name": "stdout",
     "output_type": "stream",
     "text": [
      "The likelihood that we can achieve a 15% engagement rate: 0.06.\n"
     ]
    }
   ],
   "source": [
    "Engagement_15_Amount = len(df[df[\"Engagement_Rate\"]>=0.15])\n",
    "Likelihood = Engagement_15_Amount/len(df)\n",
    "print(f'The likelihood that we can achieve a 15% engagement rate: {Likelihood:0.2f}.')"
   ]
  },
  {
   "cell_type": "markdown",
   "id": "8552cad2",
   "metadata": {},
   "source": [
    "## 2. Does day of the week and time of posting affect engagement rates?"
   ]
  },
  {
   "cell_type": "code",
   "execution_count": 7,
   "id": "e115e6e5",
   "metadata": {},
   "outputs": [
    {
     "data": {
      "text/plain": [
       "dtype('<M8[ns]')"
      ]
     },
     "execution_count": 7,
     "metadata": {},
     "output_type": "execute_result"
    }
   ],
   "source": [
    "df[\"Published_Date\"].dtypes"
   ]
  },
  {
   "cell_type": "code",
   "execution_count": 8,
   "id": "19dee96a",
   "metadata": {},
   "outputs": [
    {
     "data": {
      "text/html": [
       "<div>\n",
       "<style scoped>\n",
       "    .dataframe tbody tr th:only-of-type {\n",
       "        vertical-align: middle;\n",
       "    }\n",
       "\n",
       "    .dataframe tbody tr th {\n",
       "        vertical-align: top;\n",
       "    }\n",
       "\n",
       "    .dataframe thead th {\n",
       "        text-align: right;\n",
       "    }\n",
       "</style>\n",
       "<table border=\"1\" class=\"dataframe\">\n",
       "  <thead>\n",
       "    <tr style=\"text-align: right;\">\n",
       "      <th></th>\n",
       "      <th>Published_Date</th>\n",
       "      <th>Account</th>\n",
       "      <th>Account_Type</th>\n",
       "      <th>Campaign_Name</th>\n",
       "      <th>Total_Impressions</th>\n",
       "      <th>Total_Engagements</th>\n",
       "      <th>Media_Type</th>\n",
       "      <th>Engagement_Rate</th>\n",
       "      <th>day_of_week</th>\n",
       "      <th>hour</th>\n",
       "    </tr>\n",
       "  </thead>\n",
       "  <tbody>\n",
       "    <tr>\n",
       "      <th>0</th>\n",
       "      <td>2023-03-31 19:55:43.192</td>\n",
       "      <td>CSGO</td>\n",
       "      <td>TWITTER</td>\n",
       "      <td>N/A</td>\n",
       "      <td>0.0</td>\n",
       "      <td>0.0</td>\n",
       "      <td>Text</td>\n",
       "      <td>NaN</td>\n",
       "      <td>Friday</td>\n",
       "      <td>19</td>\n",
       "    </tr>\n",
       "    <tr>\n",
       "      <th>1</th>\n",
       "      <td>2023-03-31 19:49:35.243</td>\n",
       "      <td>CSGO</td>\n",
       "      <td>TWITTER</td>\n",
       "      <td>N/A</td>\n",
       "      <td>0.0</td>\n",
       "      <td>0.0</td>\n",
       "      <td>Text</td>\n",
       "      <td>NaN</td>\n",
       "      <td>Friday</td>\n",
       "      <td>19</td>\n",
       "    </tr>\n",
       "    <tr>\n",
       "      <th>2</th>\n",
       "      <td>2023-03-31 19:49:33.535</td>\n",
       "      <td>CSGO</td>\n",
       "      <td>TWITTER</td>\n",
       "      <td>N/A</td>\n",
       "      <td>0.0</td>\n",
       "      <td>0.0</td>\n",
       "      <td>Text</td>\n",
       "      <td>NaN</td>\n",
       "      <td>Friday</td>\n",
       "      <td>19</td>\n",
       "    </tr>\n",
       "    <tr>\n",
       "      <th>3</th>\n",
       "      <td>2023-03-31 19:49:31.583</td>\n",
       "      <td>CSGO</td>\n",
       "      <td>TWITTER</td>\n",
       "      <td>N/A</td>\n",
       "      <td>0.0</td>\n",
       "      <td>0.0</td>\n",
       "      <td>Text</td>\n",
       "      <td>NaN</td>\n",
       "      <td>Friday</td>\n",
       "      <td>19</td>\n",
       "    </tr>\n",
       "    <tr>\n",
       "      <th>4</th>\n",
       "      <td>2023-03-31 19:43:42.590</td>\n",
       "      <td>CSGO</td>\n",
       "      <td>TWITTER</td>\n",
       "      <td>Community Engagement</td>\n",
       "      <td>9517.0</td>\n",
       "      <td>1215.0</td>\n",
       "      <td>Video</td>\n",
       "      <td>0.127666</td>\n",
       "      <td>Friday</td>\n",
       "      <td>19</td>\n",
       "    </tr>\n",
       "    <tr>\n",
       "      <th>...</th>\n",
       "      <td>...</td>\n",
       "      <td>...</td>\n",
       "      <td>...</td>\n",
       "      <td>...</td>\n",
       "      <td>...</td>\n",
       "      <td>...</td>\n",
       "      <td>...</td>\n",
       "      <td>...</td>\n",
       "      <td>...</td>\n",
       "      <td>...</td>\n",
       "    </tr>\n",
       "    <tr>\n",
       "      <th>3474</th>\n",
       "      <td>2023-01-03 10:35:12.652</td>\n",
       "      <td>CSGO</td>\n",
       "      <td>TWITTER</td>\n",
       "      <td>N/A</td>\n",
       "      <td>0.0</td>\n",
       "      <td>0.0</td>\n",
       "      <td>Link</td>\n",
       "      <td>NaN</td>\n",
       "      <td>Tuesday</td>\n",
       "      <td>10</td>\n",
       "    </tr>\n",
       "    <tr>\n",
       "      <th>3475</th>\n",
       "      <td>2023-01-03 10:34:55.487</td>\n",
       "      <td>CSGO</td>\n",
       "      <td>TWITTER</td>\n",
       "      <td>N/A</td>\n",
       "      <td>0.0</td>\n",
       "      <td>0.0</td>\n",
       "      <td>Link</td>\n",
       "      <td>NaN</td>\n",
       "      <td>Tuesday</td>\n",
       "      <td>10</td>\n",
       "    </tr>\n",
       "    <tr>\n",
       "      <th>3476</th>\n",
       "      <td>2023-01-03 10:34:38.631</td>\n",
       "      <td>CSGO</td>\n",
       "      <td>TWITTER</td>\n",
       "      <td>N/A</td>\n",
       "      <td>0.0</td>\n",
       "      <td>0.0</td>\n",
       "      <td>Link</td>\n",
       "      <td>NaN</td>\n",
       "      <td>Tuesday</td>\n",
       "      <td>10</td>\n",
       "    </tr>\n",
       "    <tr>\n",
       "      <th>3477</th>\n",
       "      <td>2023-01-03 10:34:03.438</td>\n",
       "      <td>CSGO</td>\n",
       "      <td>TWITTER</td>\n",
       "      <td>N/A</td>\n",
       "      <td>2116.0</td>\n",
       "      <td>42.0</td>\n",
       "      <td>Text</td>\n",
       "      <td>0.019849</td>\n",
       "      <td>Tuesday</td>\n",
       "      <td>10</td>\n",
       "    </tr>\n",
       "    <tr>\n",
       "      <th>3478</th>\n",
       "      <td>2023-01-01 14:59:04.000</td>\n",
       "      <td>General</td>\n",
       "      <td>FBPAGE</td>\n",
       "      <td>N/A</td>\n",
       "      <td>0.0</td>\n",
       "      <td>0.0</td>\n",
       "      <td>Photo</td>\n",
       "      <td>NaN</td>\n",
       "      <td>Sunday</td>\n",
       "      <td>14</td>\n",
       "    </tr>\n",
       "  </tbody>\n",
       "</table>\n",
       "<p>3479 rows × 10 columns</p>\n",
       "</div>"
      ],
      "text/plain": [
       "              Published_Date   Account Account_Type          Campaign_Name  \\\n",
       "0    2023-03-31 19:55:43.192      CSGO      TWITTER                   N/A    \n",
       "1    2023-03-31 19:49:35.243      CSGO      TWITTER                   N/A    \n",
       "2    2023-03-31 19:49:33.535      CSGO      TWITTER                   N/A    \n",
       "3    2023-03-31 19:49:31.583      CSGO      TWITTER                   N/A    \n",
       "4    2023-03-31 19:43:42.590      CSGO      TWITTER  Community Engagement    \n",
       "...                      ...       ...          ...                    ...   \n",
       "3474 2023-01-03 10:35:12.652      CSGO      TWITTER                   N/A    \n",
       "3475 2023-01-03 10:34:55.487      CSGO      TWITTER                   N/A    \n",
       "3476 2023-01-03 10:34:38.631      CSGO      TWITTER                   N/A    \n",
       "3477 2023-01-03 10:34:03.438      CSGO      TWITTER                   N/A    \n",
       "3478 2023-01-01 14:59:04.000  General        FBPAGE                   N/A    \n",
       "\n",
       "      Total_Impressions  Total_Engagements Media_Type  Engagement_Rate  \\\n",
       "0                   0.0                0.0       Text              NaN   \n",
       "1                   0.0                0.0       Text              NaN   \n",
       "2                   0.0                0.0       Text              NaN   \n",
       "3                   0.0                0.0       Text              NaN   \n",
       "4                9517.0             1215.0      Video         0.127666   \n",
       "...                 ...                ...        ...              ...   \n",
       "3474                0.0                0.0       Link              NaN   \n",
       "3475                0.0                0.0       Link              NaN   \n",
       "3476                0.0                0.0       Link              NaN   \n",
       "3477             2116.0               42.0       Text         0.019849   \n",
       "3478                0.0                0.0      Photo              NaN   \n",
       "\n",
       "     day_of_week  hour  \n",
       "0         Friday    19  \n",
       "1         Friday    19  \n",
       "2         Friday    19  \n",
       "3         Friday    19  \n",
       "4         Friday    19  \n",
       "...          ...   ...  \n",
       "3474     Tuesday    10  \n",
       "3475     Tuesday    10  \n",
       "3476     Tuesday    10  \n",
       "3477     Tuesday    10  \n",
       "3478      Sunday    14  \n",
       "\n",
       "[3479 rows x 10 columns]"
      ]
     },
     "execution_count": 8,
     "metadata": {},
     "output_type": "execute_result"
    }
   ],
   "source": [
    "df['day_of_week'] = df['Published_Date'].dt.day_name()\n",
    "df['hour'] = df['Published_Date'].dt.hour\n",
    "df"
   ]
  },
  {
   "cell_type": "code",
   "execution_count": 9,
   "id": "7b15d2f5",
   "metadata": {},
   "outputs": [
    {
     "data": {
      "text/plain": [
       "array(['Friday', 'Thursday', 'Wednesday', 'Tuesday', 'Monday', 'Sunday',\n",
       "       'Saturday'], dtype=object)"
      ]
     },
     "execution_count": 9,
     "metadata": {},
     "output_type": "execute_result"
    }
   ],
   "source": [
    "array2_1 = df[\"day_of_week\"].unique()\n",
    "array2_1"
   ]
  },
  {
   "cell_type": "code",
   "execution_count": 10,
   "id": "e1f69b70",
   "metadata": {},
   "outputs": [
    {
     "name": "stdout",
     "output_type": "stream",
     "text": [
      "The average engagement rate of Friday we can expect: 166.04%.\n",
      "The average engagement rate of Thursday we can expect: 9.84%.\n",
      "The average engagement rate of Wednesday we can expect: 4.45%.\n",
      "The average engagement rate of Tuesday we can expect: 6.54%.\n",
      "The average engagement rate of Monday we can expect: 4.52%.\n",
      "The average engagement rate of Sunday we can expect: 5.90%.\n",
      "The average engagement rate of Saturday we can expect: 3.78%.\n"
     ]
    }
   ],
   "source": [
    "for x in array2_1:\n",
    "    df2_1 = df[df[\"day_of_week\"] == x]\n",
    "    rate2_1 = df2_1[\"Engagement_Rate\"].mean()*100\n",
    "    print('The average engagement rate of '+ x + f' we can expect: {rate2_1:0.2f}%.')"
   ]
  },
  {
   "cell_type": "code",
   "execution_count": 11,
   "id": "da9698e7",
   "metadata": {},
   "outputs": [
    {
     "data": {
      "text/plain": [
       "array([19, 18, 17, 16, 15, 14, 13, 12, 11, 10,  9,  8,  7, 23, 21, 20, 22,\n",
       "        6,  5,  4,  3,  0,  2])"
      ]
     },
     "execution_count": 11,
     "metadata": {},
     "output_type": "execute_result"
    }
   ],
   "source": [
    "array2_2 = df[\"hour\"].unique()\n",
    "array2_2"
   ]
  },
  {
   "cell_type": "code",
   "execution_count": 12,
   "id": "b6c791ee",
   "metadata": {},
   "outputs": [
    {
     "name": "stdout",
     "output_type": "stream",
     "text": [
      "The average engagement rate of 19 we can expect: 4.36%.\n",
      "The average engagement rate of 18 we can expect: 4.56%.\n",
      "The average engagement rate of 17 we can expect: 5.34%.\n",
      "The average engagement rate of 16 we can expect: 5.32%.\n",
      "The average engagement rate of 15 we can expect: 4.52%.\n",
      "The average engagement rate of 14 we can expect: 5.05%.\n",
      "The average engagement rate of 13 we can expect: 4.91%.\n",
      "The average engagement rate of 12 we can expect: 396.70%.\n",
      "The average engagement rate of 11 we can expect: 9.10%.\n",
      "The average engagement rate of 10 we can expect: 4.76%.\n",
      "The average engagement rate of 9 we can expect: 6.17%.\n",
      "The average engagement rate of 8 we can expect: 7.41%.\n",
      "The average engagement rate of 7 we can expect: 6.66%.\n",
      "The average engagement rate of 23 we can expect: 2.86%.\n",
      "The average engagement rate of 21 we can expect: 6.09%.\n",
      "The average engagement rate of 20 we can expect: 4.79%.\n",
      "The average engagement rate of 22 we can expect: 2.06%.\n",
      "The average engagement rate of 6 we can expect: 20.79%.\n",
      "The average engagement rate of 5 we can expect: 11.49%.\n",
      "The average engagement rate of 4 we can expect: 5.58%.\n",
      "The average engagement rate of 3 we can expect: 5.66%.\n",
      "The average engagement rate of 0 we can expect: nan%.\n",
      "The average engagement rate of 2 we can expect: 0.84%.\n"
     ]
    }
   ],
   "source": [
    "for x in array2_2:\n",
    "    df2_2 = df[df[\"hour\"] == x]\n",
    "    rate2_2 = df2_2[\"Engagement_Rate\"].mean()*100\n",
    "    print(f'The average engagement rate of {x} we can expect: {rate2_2:0.2f}%.')"
   ]
  },
  {
   "cell_type": "code",
   "execution_count": 13,
   "id": "525f6703",
   "metadata": {},
   "outputs": [
    {
     "data": {
      "text/plain": [
       "F_onewayResult(statistic=nan, pvalue=nan)"
      ]
     },
     "execution_count": 13,
     "metadata": {},
     "output_type": "execute_result"
    }
   ],
   "source": [
    "#check for the significance of the day of the week in affecting the engagement rate\n",
    "import scipy.stats as stats\n",
    "result1 = stats.f_oneway(*[group['Engagement_Rate'] for name, group in df.groupby('day_of_week')])\n",
    "result1"
   ]
  },
  {
   "cell_type": "code",
   "execution_count": 14,
   "id": "293eebc9",
   "metadata": {},
   "outputs": [
    {
     "data": {
      "text/plain": [
       "F_onewayResult(statistic=nan, pvalue=nan)"
      ]
     },
     "execution_count": 14,
     "metadata": {},
     "output_type": "execute_result"
    }
   ],
   "source": [
    "#check for the significance of the hour in affecting the engagement rate\n",
    "import scipy.stats as stats\n",
    "result2 = stats.f_oneway(*[group['Engagement_Rate'] for name, group in df.groupby('hour')])\n",
    "result2"
   ]
  },
  {
   "cell_type": "markdown",
   "id": "a76ea80b",
   "metadata": {},
   "source": [
    "#### As we can see from the above result, Friday of the week and time at 12 has the highest engagement rates. We tried to conduct the anova test to see if the variables are significant in affecting the engagement rate. The p value is nan, which may result from the lack of enough statistics of the variables. "
   ]
  },
  {
   "cell_type": "code",
   "execution_count": 15,
   "id": "c088c983",
   "metadata": {},
   "outputs": [
    {
     "data": {
      "text/plain": [
       "nan"
      ]
     },
     "execution_count": 15,
     "metadata": {},
     "output_type": "execute_result"
    }
   ],
   "source": [
    "#method 2\n",
    "from scipy.stats import f_oneway\n",
    "from scipy.stats import kruskal\n",
    "\n",
    "grouped_data = df.groupby('day_of_week')['Engagement_Rate'].mean().reset_index()\n",
    "grouped_data\n",
    "\n",
    "f_statistic, p_value = f_oneway(*[df[df['day_of_week'] == day]['Engagement_Rate'] for day in df['day_of_week']])\n",
    "p_value"
   ]
  },
  {
   "cell_type": "markdown",
   "id": "185d443c",
   "metadata": {},
   "source": [
    "## 3. How are our game titles doing in terms of social performance? Is there a specific game we should focus more on or less?"
   ]
  },
  {
   "cell_type": "code",
   "execution_count": 16,
   "id": "35d138a5",
   "metadata": {},
   "outputs": [
    {
     "data": {
      "text/plain": [
       "array(['CSGO', 'General ', 'DOTA2', 'Content Creators', 'Valorant',\n",
       "       'General'], dtype=object)"
      ]
     },
     "execution_count": 16,
     "metadata": {},
     "output_type": "execute_result"
    }
   ],
   "source": [
    "array3 = df[\"Account\"].unique()\n",
    "array3"
   ]
  },
  {
   "cell_type": "code",
   "execution_count": 17,
   "id": "8e24700b",
   "metadata": {},
   "outputs": [
    {
     "data": {
      "text/plain": [
       "array(['CSGO', 'General', 'DOTA2', 'Content Creators', 'Valorant'],\n",
       "      dtype=object)"
      ]
     },
     "execution_count": 17,
     "metadata": {},
     "output_type": "execute_result"
    }
   ],
   "source": [
    "df['Account'] = df['Account'].replace('General ', 'General')\n",
    "array3 = df[\"Account\"].unique()\n",
    "array3"
   ]
  },
  {
   "cell_type": "code",
   "execution_count": 18,
   "id": "e3de78ae",
   "metadata": {},
   "outputs": [
    {
     "name": "stdout",
     "output_type": "stream",
     "text": [
      "The social performance in terms of average engagement rate of CSGO we can expect: 4.13%.\n",
      "The social performance in terms of average engagement rate of General we can expect: 59.93%.\n",
      "The social performance in terms of average engagement rate of DOTA2 we can expect: 4.94%.\n",
      "The social performance in terms of average engagement rate of Content Creators we can expect: 6.17%.\n",
      "The social performance in terms of average engagement rate of Valorant we can expect: 5.34%.\n"
     ]
    }
   ],
   "source": [
    "for x in array3:\n",
    "    df3 = df[df[\"Account\"] == x]\n",
    "    rate3 = df3[\"Engagement_Rate\"].mean()*100\n",
    "    print('The social performance in terms of average engagement rate of '+ x + f' we can expect: {rate3:0.2f}%.')"
   ]
  },
  {
   "cell_type": "markdown",
   "id": "8934a319",
   "metadata": {},
   "source": [
    "#### The social performances of all five game titles are shown above in terms of their average engagement rate. Specifically, we should focus more on the games named \"general\" since it has the highest average engagement rate, surpassing the other four game titles. Game titles, including CSGO, DOTA2, Content Creators, and Valorant, have average engagement rates that range from 4% to 7%. And if we want to reduce focus on specific game titles, we should pay less focus on CSGO first since it has the lowest average engagement rate of 4.13%."
   ]
  },
  {
   "cell_type": "markdown",
   "id": "35e0c1ae",
   "metadata": {},
   "source": [
    "## 4. What media type performs the best?"
   ]
  },
  {
   "cell_type": "code",
   "execution_count": 19,
   "id": "0f88c6cc",
   "metadata": {},
   "outputs": [
    {
     "data": {
      "text/plain": [
       "array(['Text', 'Video', 'Photo', 'Link', 'Carousel', 'Mixed', 'Album'],\n",
       "      dtype=object)"
      ]
     },
     "execution_count": 19,
     "metadata": {},
     "output_type": "execute_result"
    }
   ],
   "source": [
    "array4 = df[\"Media_Type\"].unique()\n",
    "array4"
   ]
  },
  {
   "cell_type": "code",
   "execution_count": 20,
   "id": "de6fef61",
   "metadata": {},
   "outputs": [
    {
     "name": "stdout",
     "output_type": "stream",
     "text": [
      "The performance in terms of average engagement rate of Text we can expect: 4.08%.\n",
      "The performance in terms of average engagement rate of Video we can expect: 5.35%.\n",
      "The performance in terms of average engagement rate of Photo we can expect: 83.12%.\n",
      "The performance in terms of average engagement rate of Link we can expect: 3.75%.\n",
      "The performance in terms of average engagement rate of Carousel we can expect: 3.78%.\n",
      "The performance in terms of average engagement rate of Mixed we can expect: 10.77%.\n",
      "The performance in terms of average engagement rate of Album we can expect: 40.00%.\n"
     ]
    }
   ],
   "source": [
    "for x in array4:\n",
    "    df4 = df[df[\"Media_Type\"] == x]\n",
    "    rate4 = df4[\"Engagement_Rate\"].mean()*100\n",
    "    print('The performance in terms of average engagement rate of '+ x + f' we can expect: {rate4:0.2f}%.')"
   ]
  },
  {
   "cell_type": "markdown",
   "id": "563762c9",
   "metadata": {},
   "source": [
    "#### The media type of Photo performs best because it has the highest average engagement rate of 83.12%, which outperforms all other media types."
   ]
  },
  {
   "cell_type": "markdown",
   "id": "d35428cd",
   "metadata": {},
   "source": [
    "## 5. What is our best performing campaign?"
   ]
  },
  {
   "cell_type": "code",
   "execution_count": 21,
   "id": "8c2ac395",
   "metadata": {},
   "outputs": [
    {
     "data": {
      "text/plain": [
       "array(['N/A ', 'Community Engagement ', 'Evergreen ', 'Evil Exhibited '],\n",
       "      dtype=object)"
      ]
     },
     "execution_count": 21,
     "metadata": {},
     "output_type": "execute_result"
    }
   ],
   "source": [
    "array5 = df[\"Campaign_Name\"].unique()\n",
    "array5"
   ]
  },
  {
   "cell_type": "code",
   "execution_count": 22,
   "id": "1aeb56bd",
   "metadata": {},
   "outputs": [
    {
     "name": "stdout",
     "output_type": "stream",
     "text": [
      "The performance in terms of average engagement rate of Community Engagement  we can expect: 5.77%.\n",
      "The performance in terms of average engagement rate of Evergreen  we can expect: 3.51%.\n",
      "The performance in terms of average engagement rate of Evil Exhibited  we can expect: 2.87%.\n"
     ]
    }
   ],
   "source": [
    "for x in array5:\n",
    "    if x != 'N/A ':\n",
    "        df5 = df[df[\"Campaign_Name\"] == x]\n",
    "        rate5 = df5[\"Engagement_Rate\"].mean()*100\n",
    "        print('The performance in terms of average engagement rate of '+ x + f' we can expect: {rate5:0.2f}%.')"
   ]
  },
  {
   "cell_type": "markdown",
   "id": "8d8953f5",
   "metadata": {},
   "source": [
    "#### The campaign type of Community Engagement performs best because it has the highest average engagement rate of 5.77%, which outperforms all other campaign types."
   ]
  },
  {
   "cell_type": "markdown",
   "id": "3e31bf2f",
   "metadata": {},
   "source": [
    "## 6. Define out a posting strategy for our social channels based on your discoveries."
   ]
  },
  {
   "cell_type": "code",
   "execution_count": 23,
   "id": "1bce7a9c",
   "metadata": {},
   "outputs": [
    {
     "name": "stdout",
     "output_type": "stream",
     "text": [
      "The performance in terms of average engagement rate of TWITTER we can expect: 3.83%.\n",
      "The performance in terms of average engagement rate of FBPAGE we can expect: 237.20%.\n",
      "The performance in terms of average engagement rate of INSTAGRAM we can expect: 1.08%.\n",
      "The performance in terms of average engagement rate of TIKTOK_BUSINESS we can expect: 5.36%.\n",
      "The performance in terms of average engagement rate of YOUTUBE we can expect: 4.47%.\n",
      "The performance in terms of average engagement rate of LINKEDIN_COMPANY we can expect: 1.80%.\n"
     ]
    }
   ],
   "source": [
    "#check which account type generate higher engagement rate\n",
    "array6 = df[\"Account_Type\"].unique()\n",
    "array6\n",
    "for x in array6:\n",
    "    df6 = df[df[\"Account_Type\"] == x]\n",
    "    rate6 = df6[\"Engagement_Rate\"].mean()*100\n",
    "    print('The performance in terms of average engagement rate of '+ x + f' we can expect: {rate6:0.2f}%.')"
   ]
  },
  {
   "cell_type": "markdown",
   "id": "5c67046c",
   "metadata": {},
   "source": [
    "#### Based on the previous analysis, I would recommend to post more in the community engagement platforms using more photos. Also, posting on Friday around 12 PM will likely to engage more customers. The posting strategy is to fucus more on the general games, and using Facebook page will lead to more potential engagement."
   ]
  },
  {
   "cell_type": "markdown",
   "id": "8b3c81c3",
   "metadata": {},
   "source": [
    "## 7. What suggestions would you give to the social media team if they want to expand their presence (e.g. if our CSGO youtube channel is doing well should we expand to TikTok)?"
   ]
  },
  {
   "cell_type": "markdown",
   "id": "52f80d33",
   "metadata": {},
   "source": [
    "To suggest to the social media team, I would need to conduct a comparative data analysis to compare the performance of the existing social media channels and the game types to be expanded. Generally, I will apply regression models, clustering algorithms, and collaborative filtering to identify similarities and predict the potential success of expanding to other platforms (e.g., TikTok) based on historical data. My recommendation to the social team will base on the integrated analysis outcome from all the below-mentioned analyses. \n",
    "\n",
    "Firstly, I will utilize predictive models, including time series forecasting and regression analysis, to predict audience growth, engagement rates, and revenue opportunities on TikTok. These models can help assess the scalability and viability of the expansion and guide resource allocation decisions. Also, I can use algorithms like K-means clustering and decision trees to identify similar target audiences on TikTok. Finally, by analyzing demographic, behavioral, and interest-based data, I can target users who resemble the existing engaged audience and increase the likelihood of success.\n",
    "\n",
    "Additionally, I will apply NLP techniques to analyze comments, captions, and user-generated content on TikTok. Even though the language data is not provided in the current dataset, I will try to retrieve the online review and apply the NLP analysis. Using sentiment analysis and topic modeling will provide insights into audience preferences, content trends, and potential opportunities for the team to create relevant and engaging TikTok content.\n",
    "\n",
    "Furthermore, I will investigate the social network analysis to understand the network structure and connections between the current Youtube channel and TikTok. By identifying the key influencers in the current channel and game type, I can further assess the potential for collaboration to expand the reach and engagement on TikTok.\n",
    "\n",
    "Finally, I would implement A/B Testing: Design and execute A/B tests on TikTok to compare content strategies, game types, or suitable posting schedules on both platforms. The hypothesis testing and significance testing will help evaluate the performance of applying the same campaigns on TikTok based on data-driven insights and with controlled expenses. At the same time, I will closely monitor key metrics, such as impressions and engagements. I will set up real-time monitoring and data visualization dashboards to observe trends, identify anomalies, and make data-informed decisions to optimize the suggestion of whether to expand the successful campaign presence. \n"
   ]
  }
 ],
 "metadata": {
  "kernelspec": {
   "display_name": "Python 3 (ipykernel)",
   "language": "python",
   "name": "python3"
  },
  "language_info": {
   "codemirror_mode": {
    "name": "ipython",
    "version": 3
   },
   "file_extension": ".py",
   "mimetype": "text/x-python",
   "name": "python",
   "nbconvert_exporter": "python",
   "pygments_lexer": "ipython3",
   "version": "3.9.12"
  }
 },
 "nbformat": 4,
 "nbformat_minor": 5
}
